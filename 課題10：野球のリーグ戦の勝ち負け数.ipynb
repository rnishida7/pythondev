{
 "cells": [
  {
   "cell_type": "code",
   "execution_count": 1,
   "id": "935315b0",
   "metadata": {},
   "outputs": [],
   "source": [
    "class Baseball_Team:\n",
    "    def __init__(self, name, win, lose, draw):\n",
    "        self.name = name\n",
    "        self.win = win\n",
    "        self.lose = lose\n",
    "        self.draw = draw\n",
    "\n",
    "    def calc_win_rate(self):\n",
    "        return self.win / (self.win + self.lose)\n",
    "\n",
    "    def show_team_result(self):\n",
    "        print(f\"{self.name:10} {self.win:4} {self.lose:4} {self.draw:4} {self.calc_win_rate():.3f}\")\n"
   ]
  },
  {
   "cell_type": "code",
   "execution_count": null,
   "id": "c973d0ac",
   "metadata": {},
   "outputs": [
    {
     "name": "stdout",
     "output_type": "stream",
     "text": [
      "team        win lose draw rate \n",
      "Archers      77   64    2 0.546\n",
      "Meteors      71   69    3 0.507\n",
      "Cheetahs     69   68    6 0.504\n",
      "Sharks       70   70    3 0.500\n",
      "Pythons      68   73    2 0.482\n",
      "Owls         59   82    2 0.418\n"
     ]
    }
   ],
   "source": [
    "archers = Baseball_Team(\"Archers\", 77, 64, 2)\n",
    "meteors = Baseball_Team(\"Meteors\", 71, 69, 3)\n",
    "cheetahs = Baseball_Team(\"Cheetahs\", 69, 68, 6)\n",
    "sharks = Baseball_Team(\"Sharks\", 70, 70, 3)\n",
    "pythons = Baseball_Team(\"Pythons\", 68, 73, 2)\n",
    "owls = Baseball_Team(\"Owls\", 59, 82, 2)\n",
    "\n",
    "teams = [archers, meteors, cheetahs, sharks, pythons, owls]\n",
    "print(f\"{'team':10} {'win':>4} {'lose':4} {'draw':4} {'rate':>5}\")\n",
    "for team in teams:\n",
    "    team.show_team_result()"
   ]
  }
 ],
 "metadata": {
  "kernelspec": {
   "display_name": "pythondev",
   "language": "python",
   "name": "python3"
  },
  "language_info": {
   "codemirror_mode": {
    "name": "ipython",
    "version": 3
   },
   "file_extension": ".py",
   "mimetype": "text/x-python",
   "name": "python",
   "nbconvert_exporter": "python",
   "pygments_lexer": "ipython3",
   "version": "3.12.11"
  }
 },
 "nbformat": 4,
 "nbformat_minor": 5
}
