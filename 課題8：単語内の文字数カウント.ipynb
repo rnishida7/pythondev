{
 "cells": [
  {
   "cell_type": "code",
   "execution_count": 3,
   "id": "983809ae",
   "metadata": {},
   "outputs": [
    {
     "name": "stdout",
     "output_type": "stream",
     "text": [
      "入力した英単語： ['bear', 'cat', 'dog', 'giraffe', 'horse', 'kangaroo']\n",
      "aが5個ありました\n",
      "bが1個ありました\n",
      "cが1個ありました\n",
      "dが1個ありました\n",
      "eが3個ありました\n",
      "fが2個ありました\n",
      "gが3個ありました\n",
      "hが1個ありました\n",
      "iが1個ありました\n",
      "kが1個ありました\n",
      "nが1個ありました\n",
      "oが4個ありました\n",
      "rが4個ありました\n",
      "sが1個ありました\n",
      "tが1個ありました\n"
     ]
    }
   ],
   "source": [
    "words = []\n",
    "alphabet_counts = {'a':0, 'b':0, 'c':0, 'd':0, 'e':0, 'f':0, 'g':0, 'h':0, 'i':0, 'j':0, 'k':0, 'l':0, 'm':0, 'n':0, 'o':0, 'p':0, 'q':0, 'r':0, 's':0, 't':0, 'u':0, 'v':0, 'w':0, 'x':0, 'y':0, 'z':0}\n",
    "\n",
    "while input_word := input(\"英単語を入力してください：\"):\n",
    "    for char in input_word:\n",
    "        alphabet_counts[char] = alphabet_counts[char] + 1\n",
    "\n",
    "    words.append(input_word)\n",
    "\n",
    "print(\"入力した英単語：\", sorted(words))\n",
    "for char, count in alphabet_counts.items():\n",
    "    if count > 0:\n",
    "        print(f\"{char}が{count}個ありました\")\n"
   ]
  },
  {
   "cell_type": "code",
   "execution_count": null,
   "id": "28fa452a",
   "metadata": {},
   "outputs": [],
   "source": []
  }
 ],
 "metadata": {
  "kernelspec": {
   "display_name": "pythondev",
   "language": "python",
   "name": "python3"
  },
  "language_info": {
   "codemirror_mode": {
    "name": "ipython",
    "version": 3
   },
   "file_extension": ".py",
   "mimetype": "text/x-python",
   "name": "python",
   "nbconvert_exporter": "python",
   "pygments_lexer": "ipython3",
   "version": "3.12.11"
  }
 },
 "nbformat": 4,
 "nbformat_minor": 5
}
