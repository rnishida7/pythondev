{
 "cells": [
  {
   "cell_type": "code",
   "execution_count": 1,
   "id": "5e8aded4",
   "metadata": {},
   "outputs": [
    {
     "name": "stdout",
     "output_type": "stream",
     "text": [
      "私の名前は taro kirameki です。来年で 26 歳になります。\n"
     ]
    }
   ],
   "source": [
    "name = input(\"名前を入力してください：\")\n",
    "age = int(input(\"現在の年齢を入力してください：\"))\n",
    "print(f\"私の名前は {name} です。来年で {age + 1} 歳になります。\")"
   ]
  }
 ],
 "metadata": {
  "kernelspec": {
   "display_name": "python",
   "language": "python",
   "name": "python3"
  },
  "language_info": {
   "codemirror_mode": {
    "name": "ipython",
    "version": 3
   },
   "file_extension": ".py",
   "mimetype": "text/x-python",
   "name": "python",
   "nbconvert_exporter": "python",
   "pygments_lexer": "ipython3",
   "version": "3.13.5"
  }
 },
 "nbformat": 4,
 "nbformat_minor": 5
}
